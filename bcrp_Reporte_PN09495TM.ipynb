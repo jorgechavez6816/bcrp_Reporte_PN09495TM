{
 "cells": [
  {
   "cell_type": "code",
   "execution_count": 1,
   "metadata": {},
   "outputs": [],
   "source": [
    "#Obtención automática de tablas del BCRP - PN09495TM\n",
    "#Operaciones cambiarias del BCRP con las empresas bancarias (millones US$) - Al Contado - Compras\n",
    "\n",
    "#01. Importación de librerias\n",
    "from bs4 import BeautifulSoup\n",
    "import requests\n",
    "import pandas as pd\n",
    "import csv\n",
    "\n",
    "#02. Identificación de url de trabajo\n",
    "url = 'https://estadisticas.bcrp.gob.pe/estadisticas/series/mensuales/resultados/PN09495TM/html'\n",
    "page = requests.get(url)\n",
    "soup = BeautifulSoup(page.content, 'html.parser')\n",
    "\n",
    "#03. Obtención de fecha\n",
    "eq = soup.find_all('td', class_='periodo')\n",
    "equipos = list()\n",
    "count = 0\n",
    "for i in eq:\n",
    "    if count <148:\n",
    "        equipos.append(i.text.strip(\"\\n\"))\n",
    "    else:\n",
    "        break\n",
    "    count +=1\n",
    "    \n",
    "#04. Obtención demontos \n",
    "pt = soup.find_all('td', class_='dato')\n",
    "puntos = list()\n",
    "count = 0\n",
    "for i in pt:\n",
    "    if count <148:\n",
    "        puntos.append(i.text.strip(\"\\n\"))\n",
    "    else:\n",
    "        break\n",
    "    count +=1\n",
    "\n",
    "#05. Creación de archivo de salida\n",
    "df = pd.DataFrame({'Fecha': equipos, 'Millones_US': puntos}, index=list(range(1,149)))\n",
    "df.to_csv('C:\\\\Users\\\\Intel\\\\Documents\\\\Mis documentos IDEA\\\\Samples\\\\Archivos fuente.ILB\\\\Reporte_PN09495TM.csv', encoding='utf-8')\n"
   ]
  },
  {
   "cell_type": "code",
   "execution_count": null,
   "metadata": {},
   "outputs": [],
   "source": []
  }
 ],
 "metadata": {
  "kernelspec": {
   "display_name": "Python 3",
   "language": "python",
   "name": "python3"
  },
  "language_info": {
   "codemirror_mode": {
    "name": "ipython",
    "version": 3
   },
   "file_extension": ".py",
   "mimetype": "text/x-python",
   "name": "python",
   "nbconvert_exporter": "python",
   "pygments_lexer": "ipython3",
   "version": "3.7.6"
  }
 },
 "nbformat": 4,
 "nbformat_minor": 4
}
